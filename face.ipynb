{
 "cells": [
  {
   "cell_type": "code",
   "execution_count": null,
   "id": "4dc94ee6",
   "metadata": {},
   "outputs": [],
   "source": [
    "import tensorflow_datasets as tfds\n",
    "import matplotlib.pyplot as plt\n",
    "import cv2\n",
    "import tensorflow as tf\n",
    "import keras"
   ]
  },
  {
   "cell_type": "code",
   "execution_count": 18,
   "id": "a8e86d80",
   "metadata": {},
   "outputs": [],
   "source": [
    "train_ds, val_ds, test_ds = tfds.load(\n",
    "    'wider_face',\n",
    "    split=['train', 'validation', 'test'],\n",
    "    shuffle_files=True\n",
    ")"
   ]
  },
  {
   "cell_type": "code",
   "execution_count": 21,
   "id": "d341c59b",
   "metadata": {},
   "outputs": [],
   "source": [
    "def preprocess(sample):\n",
    "    img=tf.image.resize(sample['image'],(128,128))\n",
    "    img=img/255.0\n",
    "    box=sample['faces']['bbox']\n",
    "    return img, box\n",
    "\n",
    "train_ds=train_ds.map(preprocess).cache().batch(16).shuffle(100).prefetch(tf.data.AUTOTUNE)\n",
    "val_ds=val_ds.map(preprocess).cache().batch(16)\n",
    "test_ds=test_ds.map(preprocess).cache().batch(16)"
   ]
  },
  {
   "cell_type": "code",
   "execution_count": null,
   "id": "8fdc4892",
   "metadata": {},
   "outputs": [],
   "source": [
    "#từ 1 tới 5 theo mô hình vgg16, bỏ phần dưới từ pooling layer ở block 5 đến hết cấu trúc vgg16 gốc\n",
    "#từ 6 đến 11 là phần layer thêm vào theo cấu trúc ssd300\n",
    "model=keras.Sequential([\n",
    "    #1\n",
    "    keras.layers.Conv2D(64,input_shape=(300,300,3),activation='relu',padding='same',kernel_size=(3, 3)),\n",
    "    keras.layers.Conv2D(64,activation='relu',padding='same',kernel_size=(3, 3)),\n",
    "    keras.layers.MaxPool2D(pool_size=(2,2),strides=2),\n",
    "    #2\n",
    "    keras.layers.Conv2D(128,activation='relu',padding='same',kernel_size=(3, 3)),\n",
    "    keras.layers.Conv2D(128,activation='relu',padding='same',kernel_size=(3, 3)),\n",
    "    keras.layers.MaxPool2D(pool_size=(2,2),strides=2),\n",
    "    #3\n",
    "    keras.layers.Conv2D(256,activation='relu',padding='same',kernel_size=(3, 3)),\n",
    "    keras.layers.Conv2D(256,activation='relu',padding='same',kernel_size=(3, 3)),\n",
    "    keras.layers.Conv2D(256,activation='relu',padding='same',kernel_size=(3, 3)),\n",
    "    keras.layers.MaxPool2D(pool_size=(2,2),strides=2),\n",
    "    #4\n",
    "    keras.layers.Conv2D(512,activation='relu',padding='same',kernel_size=(3, 3)),\n",
    "    keras.layers.Conv2D(512,activation='relu',padding='same',kernel_size=(3, 3)),\n",
    "    keras.layers.Conv2D(512,activation='relu',padding='same',kernel_size=(3, 3)),\n",
    "    keras.layers.MaxPool2D(pool_size=(2,2),strides=2),\n",
    "    #5\n",
    "    keras.layers.Conv2D(512,activation='relu',padding='same',kernel_size=(3, 3)),\n",
    "    keras.layers.Conv2D(512,activation='relu',padding='same',kernel_size=(3, 3)),\n",
    "    keras.layers.Conv2D(512,activation='relu',padding='same',kernel_size=(3, 3)),\n",
    "    #6\n",
    "    keras.layers.Conv2D(1024,activation='relu',dilation_rate=6,padding='same',kernel_size=(3, 3)),\n",
    "    #7\n",
    "    keras.layers.Conv2D(1024,activation='relu',padding='same',kernel_size=(1, 1)),\n",
    "    #8\n",
    "    keras.layers.Conv2D(256,activation='relu',padding='same',kernel_size=(1, 1)),\n",
    "    keras.layers.Conv2D(512,activation='relu',padding='same',kernel_size=(3, 3),strides=2),\n",
    "    #9\n",
    "    keras.layers.Conv2D(128,activation='relu',padding='same',kernel_size=(1, 1)),\n",
    "    keras.layers.Conv2D(256,activation='relu',padding='same',kernel_size=(3, 3),strides=2),\n",
    "    #10\n",
    "    keras.layers.Conv2D(128,activation='relu',padding='same',kernel_size=(1, 1)),\n",
    "    keras.layers.Conv2D(256,activation='relu',padding='valid',kernel_size=(3, 3),strides=1),\n",
    "    #11\n",
    "    keras.layers.Conv2D(128,activation='relu',padding='valid',kernel_size=(1, 1)),\n",
    "    keras.layers.Conv2D(256,activation='relu',padding='valid',kernel_size=(3, 3),strides=1)\n",
    "])"
   ]
  },
  {
   "cell_type": "code",
   "execution_count": null,
   "id": "a636c7d0",
   "metadata": {},
   "outputs": [],
   "source": [
    "# for sample in train_ds.take(9):\n",
    "#     h, w=sample['image'].shape[:2]\n",
    "#     img=sample['image'].numpy()\n",
    "#     for box in sample['faces']['bbox']:\n",
    "#         ymin, xmin, ymax, xmax=box\n",
    "#         x=int(xmin*w)\n",
    "#         y=int(ymin*h)\n",
    "#         width=int((xmax-xmin)*w)\n",
    "#         height=int((ymax-ymin)*h)\n",
    "#         cv2.rectangle(img,(x,y),(x+width,y+height),(0,0,255),2)\n",
    "#     plt.imshow(img)"
   ]
  }
 ],
 "metadata": {
  "kernelspec": {
   "display_name": "py311",
   "language": "python",
   "name": "python3"
  },
  "language_info": {
   "codemirror_mode": {
    "name": "ipython",
    "version": 3
   },
   "file_extension": ".py",
   "mimetype": "text/x-python",
   "name": "python",
   "nbconvert_exporter": "python",
   "pygments_lexer": "ipython3",
   "version": "3.11.9"
  }
 },
 "nbformat": 4,
 "nbformat_minor": 5
}
