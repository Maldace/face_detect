{
 "cells": [
  {
   "cell_type": "code",
   "execution_count": null,
   "id": "4dc94ee6",
   "metadata": {},
   "outputs": [],
   "source": [
    "import tensorflow_datasets as tfds\n",
    "import matplotlib.pyplot as plt\n",
    "import cv2"
   ]
  },
  {
   "cell_type": "code",
   "execution_count": null,
   "id": "a8e86d80",
   "metadata": {},
   "outputs": [],
   "source": [
    "train_ds, val_ds, test_ds = tfds.load(\n",
    "    'wider_face',\n",
    "    split=['train', 'validation', 'test'],\n",
    "    shuffle_files=True\n",
    ")"
   ]
  },
  {
   "cell_type": "code",
   "execution_count": null,
   "id": "1c769332",
   "metadata": {},
   "outputs": [],
   "source": [
    "for sample in val_ds.take(1):\n",
    "    h, w=sample['image'].shape[:2]\n",
    "    img=sample['image'].numpy()\n",
    "    for box in sample['faces']['bbox']:\n",
    "        ymin, xmin, ymax, xmax=box\n",
    "        x=int(xmin*w)\n",
    "        y=int(ymin*h)\n",
    "        width=int((xmax-xmin)*w)\n",
    "        height=int((ymax-ymin)*h)\n",
    "        cv2.rectangle(img,(x,y),(x+width,y+height),(255,0,0),2)\n",
    "    plt.imshow(img)\n"
   ]
  }
 ],
 "metadata": {
  "kernelspec": {
   "display_name": "py311",
   "language": "python",
   "name": "python3"
  },
  "language_info": {
   "codemirror_mode": {
    "name": "ipython",
    "version": 3
   },
   "file_extension": ".py",
   "mimetype": "text/x-python",
   "name": "python",
   "nbconvert_exporter": "python",
   "pygments_lexer": "ipython3",
   "version": "3.11.9"
  }
 },
 "nbformat": 4,
 "nbformat_minor": 5
}
